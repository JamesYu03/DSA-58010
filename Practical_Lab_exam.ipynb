{
  "nbformat": 4,
  "nbformat_minor": 0,
  "metadata": {
    "colab": {
      "name": "Practical Lab exam.ipynb",
      "provenance": [],
      "authorship_tag": "ABX9TyNQt1Wb9dUEKR2lDEgrUtkK",
      "include_colab_link": true
    },
    "kernelspec": {
      "name": "python3",
      "display_name": "Python 3"
    },
    "language_info": {
      "name": "python"
    }
  },
  "cells": [
    {
      "cell_type": "markdown",
      "metadata": {
        "id": "view-in-github",
        "colab_type": "text"
      },
      "source": [
        "<a href=\"https://colab.research.google.com/github/JamesYu03/DSA-58010/blob/main/Practical_Lab_exam.ipynb\" target=\"_parent\"><img src=\"https://colab.research.google.com/assets/colab-badge.svg\" alt=\"Open In Colab\"/></a>"
      ]
    },
    {
      "cell_type": "code",
      "execution_count": 54,
      "metadata": {
        "colab": {
          "base_uri": "https://localhost:8080/"
        },
        "id": "X_QstAe_d5Tw",
        "outputId": "ff18b9b1-155c-4e5e-c8af-c6d543077d31"
      },
      "outputs": [
        {
          "output_type": "stream",
          "name": "stdout",
          "text": [
            "Adding the test scores as given below if the number is EVEN\n",
            " \n",
            "The grades are 26, 49, 98, 87, 62, 75\n",
            "The sum of the even number is:  186\n"
          ]
        }
      ],
      "source": [
        "print(\"Adding the test scores as given below if the number is EVEN\")\n",
        "print(\" \")\n",
        "print(\"The grades are 26, 49, 98, 87, 62, 75\")\n",
        "G = [26, 49, 98, 87, 62, 75]\n",
        "sum = 0\n",
        "\n",
        "for i in G:\n",
        "    if i % 2  == 0:\n",
        "        sum += i \n",
        "        \n",
        "print(\"The sum of the even number is: \",sum)"
      ]
    }
  ]
}