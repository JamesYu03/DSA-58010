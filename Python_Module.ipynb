{
  "nbformat": 4,
  "nbformat_minor": 0,
  "metadata": {
    "colab": {
      "provenance": [],
      "authorship_tag": "ABX9TyMTMS2AQiXEkj3O8sycxUtc",
      "include_colab_link": true
    },
    "kernelspec": {
      "name": "python3",
      "display_name": "Python 3"
    },
    "language_info": {
      "name": "python"
    }
  },
  "cells": [
    {
      "cell_type": "markdown",
      "metadata": {
        "id": "view-in-github",
        "colab_type": "text"
      },
      "source": [
        "<a href=\"https://colab.research.google.com/github/JamesYu03/DSA-58010/blob/main/Python_Module.ipynb\" target=\"_parent\"><img src=\"https://colab.research.google.com/assets/colab-badge.svg\" alt=\"Open In Colab\"/></a>"
      ]
    },
    {
      "cell_type": "markdown",
      "source": [
        "Example 1"
      ],
      "metadata": {
        "id": "AbNALD-S50km"
      }
    },
    {
      "cell_type": "code",
      "execution_count": 5,
      "metadata": {
        "colab": {
          "base_uri": "https://localhost:8080/"
        },
        "id": "1C5XVFzr46M3",
        "outputId": "bc2793b3-6aba-4349-cdaf-49ca42add7a0"
      },
      "outputs": [
        {
          "output_type": "stream",
          "name": "stdout",
          "text": [
            "i\n",
            "f\n"
          ]
        }
      ],
      "source": [
        "import array\n",
        "array.typecodes #get all typecodes\n",
        "a = array.array('i', [1,2,3,4,5,6]) #initializing array a \n",
        "b = array.array('f', [1.5,2.5,3.5,4.5,5.5,6.5]) #initializing array b \n",
        "print(a.typecode)\n",
        "print(b.typecode)"
      ]
    },
    {
      "cell_type": "markdown",
      "source": [
        "Example 2"
      ],
      "metadata": {
        "id": "t4Tgm4c58eWk"
      }
    },
    {
      "cell_type": "code",
      "source": [
        "a = array.array('f', [1,2,3,4,5,6])\n",
        "print(a)"
      ],
      "metadata": {
        "colab": {
          "base_uri": "https://localhost:8080/"
        },
        "id": "7oYBaW3D8frr",
        "outputId": "0a976f0c-b030-4963-bf2f-99628b6ad206"
      },
      "execution_count": 6,
      "outputs": [
        {
          "output_type": "stream",
          "name": "stdout",
          "text": [
            "array('f', [1.0, 2.0, 3.0, 4.0, 5.0, 6.0])\n"
          ]
        }
      ]
    },
    {
      "cell_type": "markdown",
      "source": [
        "Example 3"
      ],
      "metadata": {
        "id": "N-YHa9nIAEGK"
      }
    },
    {
      "cell_type": "code",
      "source": [
        "import array\n",
        "a = array.array('i', [4,5,6,7]) #initialzing array a\n",
        "b = array.array('i', [1,2,3])\n",
        "a.insert(1,2) #insert element 2 to index 1 \n",
        "print(a)\n",
        "a.insert(-1,0) #insert element 0 to index -1\n",
        "print(a)\n",
        "a.insert(6,8) #insert elemet 8 to index 6\n",
        "print(a)\n",
        "b[0]=5\n",
        "print(b)\n",
        "b[-1] = 9\n",
        "print(b)"
      ],
      "metadata": {
        "colab": {
          "base_uri": "https://localhost:8080/"
        },
        "id": "Su-wI2Vd-zuD",
        "outputId": "1922176a-7355-44e9-bb92-ea559a3af049"
      },
      "execution_count": 14,
      "outputs": [
        {
          "output_type": "stream",
          "name": "stdout",
          "text": [
            "array('i', [4, 2, 5, 6, 7])\n",
            "array('i', [4, 2, 5, 6, 0, 7])\n",
            "array('i', [4, 2, 5, 6, 0, 7, 8])\n",
            "array('i', [5, 2, 3])\n",
            "array('i', [5, 2, 9])\n"
          ]
        }
      ]
    },
    {
      "cell_type": "markdown",
      "source": [
        "NODE"
      ],
      "metadata": {
        "id": "dRWCknD2FEIh"
      }
    },
    {
      "cell_type": "code",
      "source": [
        "#node class\n",
        "\n",
        "class Node:\n",
        "  def __init__(self,data): #function to initialize the node object \n",
        "    self.data = data #assign data\n",
        "    self.next = None #initialize \n",
        "                     #next as null\n",
        "#Linked list class\n",
        "class LinkedList:\n",
        "  #function to initialize the linked \n",
        "  #list object \n",
        "  def __init_(self):\n",
        "    self.head = None \n",
        "\n",
        "  def printlist(self):\n",
        "    temp = self.head\n",
        "    while(temp != None):\n",
        "      print(temp.data)\n",
        "      temp = temp.next\n",
        "\n",
        "\n",
        "list = LinkedList()\n",
        "list.head = Node(1)\n",
        "second = Node(2)\n",
        "third = Node(3)\n",
        "forth = Node(4)\n",
        "\n",
        "list.head.next = second \n",
        "second.next = third \n",
        "third.next = forth\n",
        "\n",
        "list.printlist()\n"
      ],
      "metadata": {
        "colab": {
          "base_uri": "https://localhost:8080/"
        },
        "id": "dhlTX4_TFE-A",
        "outputId": "0e663a29-2a31-46db-dffe-b7af4dd12cc3"
      },
      "execution_count": 36,
      "outputs": [
        {
          "output_type": "stream",
          "name": "stdout",
          "text": [
            "1\n",
            "2\n",
            "3\n",
            "4\n"
          ]
        }
      ]
    }
  ]
}