{
  "nbformat": 4,
  "nbformat_minor": 0,
  "metadata": {
    "colab": {
      "name": "Question 5.ipynb",
      "provenance": [],
      "authorship_tag": "ABX9TyMscyuZX/F7DT/V+Q1Ei74r",
      "include_colab_link": true
    },
    "kernelspec": {
      "name": "python3",
      "display_name": "Python 3"
    },
    "language_info": {
      "name": "python"
    }
  },
  "cells": [
    {
      "cell_type": "markdown",
      "metadata": {
        "id": "view-in-github",
        "colab_type": "text"
      },
      "source": [
        "<a href=\"https://colab.research.google.com/github/JamesYu03/DSA-58010/blob/main/Question_5.ipynb\" target=\"_parent\"><img src=\"https://colab.research.google.com/assets/colab-badge.svg\" alt=\"Open In Colab\"/></a>"
      ]
    },
    {
      "cell_type": "code",
      "execution_count": 9,
      "metadata": {
        "colab": {
          "base_uri": "https://localhost:8080/"
        },
        "id": "KOVusQs_JnF5",
        "outputId": "2baf4b49-da8b-44b3-d785-fc6623018820"
      },
      "outputs": [
        {
          "output_type": "stream",
          "name": "stdout",
          "text": [
            "8\n",
            "21\n",
            "16\n",
            "20\n"
          ]
        }
      ],
      "source": [
        "class Shape:                          #Parent class (inheritance)\n",
        "  def Area(self):                     #Polymorphism method 1\n",
        "    pass\n",
        "  def Perimeter(self):                #Polymorphism method 2\n",
        "    pass\n",
        "  \n",
        "class Rectangle:                      \n",
        "  def __init__(self,side1,side2):\n",
        "    self.side1 = side1\n",
        "    self.side2 = side2 \n",
        "  def Area (self):                    #Polymorphism method 1 (recycled)\n",
        "    print(self.side1*self.side2)\n",
        "  def Perimeter(self):                #Polymorphism method 2 (recycled)\n",
        "    print(2*(self.side1 + self.side2))\n",
        "\n",
        "class Square(Shape):                  #Child class (inheritance)\n",
        "  def __init__(self,side):             \n",
        "    self.side = side              \n",
        "  def Area(self):                     #Polymorphism method 1(recycled)\n",
        "    print(self.side*2)\n",
        "  def Perimeter(self):                #Polymorphism method 2(recycled)\n",
        "    print(self.side*4)\n",
        "\n",
        "square = Square(4)\n",
        "square.Area()\n",
        "\n",
        "rect = Rectangle(7,3)\n",
        "rect.Area()\n",
        "\n",
        "square.Perimeter()\n",
        "rect.Perimeter()\n",
        "\n",
        "#Inheritance is use in this program because the class square inherits the \n",
        "#attributes and methods of class Shape. We consider the class Shape as our \n",
        "#\"Parent class\" and the class Square considered as \"Child class\". While \n",
        "#Polymorphism is used because the method in class Square is from the recycled \n",
        "#block of code in the class shape.Meaning the method in the class square is from\n",
        "#the class shape but into another form. We consider this a Polymorphism with\n",
        "#inheritance and Polymorphism with a function and objects.We also use \n",
        "#polymorphism with class methods in the class rectangle because again we still\n",
        "#recycle the block of code in the class shape which is def Area and def Perimeter. "
      ]
    },
    {
      "cell_type": "code",
      "source": [
        ""
      ],
      "metadata": {
        "id": "_b4byus8JsCO"
      },
      "execution_count": null,
      "outputs": []
    }
  ]
}