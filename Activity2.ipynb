{
  "nbformat": 4,
  "nbformat_minor": 0,
  "metadata": {
    "colab": {
      "provenance": [],
      "authorship_tag": "ABX9TyMx4igc0CNiVW9fi4pj25sq",
      "include_colab_link": true
    },
    "kernelspec": {
      "name": "python3",
      "display_name": "Python 3"
    },
    "language_info": {
      "name": "python"
    }
  },
  "cells": [
    {
      "cell_type": "markdown",
      "metadata": {
        "id": "view-in-github",
        "colab_type": "text"
      },
      "source": [
        "<a href=\"https://colab.research.google.com/github/JamesYu03/DSA-58010/blob/main/Activity2.ipynb\" target=\"_parent\"><img src=\"https://colab.research.google.com/assets/colab-badge.svg\" alt=\"Open In Colab\"/></a>"
      ]
    },
    {
      "cell_type": "code",
      "execution_count": 36,
      "metadata": {
        "colab": {
          "base_uri": "https://localhost:8080/"
        },
        "id": "m7b8xlLqHqQ-",
        "outputId": "acf2516b-d1ba-4073-b2d4-94643060e897"
      },
      "outputs": [
        {
          "output_type": "stream",
          "name": "stdout",
          "text": [
            "2 => 3 => 5 => 7 => 11 => 13 => 17 => 19 => None\n"
          ]
        }
      ],
      "source": [
        "class Node:\n",
        "    def __init__(self, data, next=None): #function to initialize the node object \n",
        "        self.data = data #assign data\n",
        "        self.next  = next #initialize next as null\n",
        "\n",
        "#Assigning Node values in the Linkedlist\n",
        "node1 = Node(\"2\")\n",
        "node2 = Node(\"3\")\n",
        "node3 = Node(\"5\")\n",
        "node4 = Node(\"7\")\n",
        "node5 = Node(\"11\")\n",
        "node6 = Node(\"13\")\n",
        "node7 = Node(\"17\")\n",
        "node8 = Node(\"19\")\n",
        "\n",
        "#function to next the node values\n",
        "node1.next = node2\n",
        "node2.next = node3\n",
        "node3.next = node4\n",
        "node4.next = node5\n",
        "node5.next = node6\n",
        "node6.next = node7\n",
        "node7.next = node8\n",
        "\n",
        "\n",
        "Headnode = node1 #The headnode\n",
        "while True:\n",
        "    print(Headnode.data, \"=>\" , end = ' ')\n",
        "    if Headnode.next is None:\n",
        "        print(\"None\")\n",
        "        break\n",
        "    Headnode = Headnode.next\n",
        "         "
      ]
    }
  ]
}