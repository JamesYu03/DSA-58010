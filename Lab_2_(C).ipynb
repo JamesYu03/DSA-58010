{
  "nbformat": 4,
  "nbformat_minor": 0,
  "metadata": {
    "colab": {
      "provenance": [],
      "authorship_tag": "ABX9TyMYKZz+X09vI44eQq2WowKx",
      "include_colab_link": true
    },
    "kernelspec": {
      "name": "python3",
      "display_name": "Python 3"
    },
    "language_info": {
      "name": "python"
    }
  },
  "cells": [
    {
      "cell_type": "markdown",
      "metadata": {
        "id": "view-in-github",
        "colab_type": "text"
      },
      "source": [
        "<a href=\"https://colab.research.google.com/github/JamesYu03/DSA-58010/blob/main/Lab_2_(C).ipynb\" target=\"_parent\"><img src=\"https://colab.research.google.com/assets/colab-badge.svg\" alt=\"Open In Colab\"/></a>"
      ]
    },
    {
      "cell_type": "code",
      "execution_count": null,
      "metadata": {
        "colab": {
          "base_uri": "https://localhost:8080/"
        },
        "id": "72grFs-4yrv-",
        "outputId": "3c1f659c-cf4d-4d1e-92b9-d2f7691b571c"
      },
      "outputs": [
        {
          "output_type": "stream",
          "name": "stdout",
          "text": [
            "Enter number of elements : 5\n",
            "42\n",
            "21\n",
            "51\n",
            "32\n",
            "10\n",
            "The Minimum value is:  10\n",
            "The Maximum Value is: 51\n"
          ]
        }
      ],
      "source": [
        "def RMin(val):\n",
        "        if len(val) == 0:\n",
        "          return None\n",
        "        if len(val) >= 1:\n",
        "          return min(val)\n",
        "        \n",
        "def RMax(val):\n",
        "        if len(val) == 0:\n",
        "          return None\n",
        "        if len(val) >= 1:532\n",
        "          return max(val)\n",
        "\n",
        "# creating an empty list\n",
        "val = []\n",
        "  \n",
        "# number of elements as input\n",
        "n = int(input(\"Enter number of elements : \"))\n",
        "  \n",
        "# iterating till the range\n",
        "for i in range(0, n):\n",
        "    x = int(input())\n",
        "  \n",
        "    val.append(x) # adding the element\n",
        "\n",
        "\n",
        "print(\"The Minimum value is: \", RMin(val))\n",
        "print(\"The Maximum Value is:\", RMax(val))"
      ]
    }
  ]
}