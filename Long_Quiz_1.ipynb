{
  "nbformat": 4,
  "nbformat_minor": 0,
  "metadata": {
    "colab": {
      "provenance": [],
      "authorship_tag": "ABX9TyNjxKlzou+TzGHz8w562TN2",
      "include_colab_link": true
    },
    "kernelspec": {
      "name": "python3",
      "display_name": "Python 3"
    },
    "language_info": {
      "name": "python"
    }
  },
  "cells": [
    {
      "cell_type": "markdown",
      "metadata": {
        "id": "view-in-github",
        "colab_type": "text"
      },
      "source": [
        "<a href=\"https://colab.research.google.com/github/JamesYu03/DSA-58010/blob/main/Long_Quiz_1.ipynb\" target=\"_parent\"><img src=\"https://colab.research.google.com/assets/colab-badge.svg\" alt=\"Open In Colab\"/></a>"
      ]
    },
    {
      "cell_type": "markdown",
      "source": [
        "1) Choose either Array or Linked-List data structure\n",
        "\n",
        "2) Create a python program that appends each character of your full name and displays each character in reverse order (in Colab)\n",
        "\n",
        "3) Save your program as \"Long Quiz 1\" to your GitHub\n",
        "\n",
        "4) Send the link address of GitHub to the Practical Laboratory folder (BlackBoard)"
      ],
      "metadata": {
        "id": "v2FpVj-bdmBP"
      }
    },
    {
      "cell_type": "code",
      "execution_count": 10,
      "metadata": {
        "colab": {
          "base_uri": "https://localhost:8080/"
        },
        "id": "dU1RHvYcdg3a",
        "outputId": "54148b3c-229c-47c4-d23b-4d444e9f1ba5"
      },
      "outputs": [
        {
          "output_type": "stream",
          "name": "stdout",
          "text": [
            "Name: JAMES BERNARD G. YUMANG\n",
            "G\n",
            "N\n",
            "A\n",
            "M\n",
            "U\n",
            "Y\n",
            " \n",
            "G.\n",
            " \n",
            "D\n",
            "R\n",
            "A\n",
            "N\n",
            "R\n",
            "E\n",
            "B\n",
            " \n",
            "S\n",
            "E\n",
            "M\n",
            "A\n",
            "J\n"
          ]
        }
      ],
      "source": [
        "print(\"Name: JAMES BERNARD G. YUMANG\")\n",
        "name = []\n",
        "name.append(\"J\")\n",
        "name.append(\"A\")\n",
        "name.append(\"M\")\n",
        "name.append(\"E\")\n",
        "name.append(\"S\")\n",
        "name.append(\" \")\n",
        "name.append(\"B\")\n",
        "name.append(\"E\")\n",
        "name.append(\"R\")\n",
        "name.append(\"N\")\n",
        "name.append(\"A\")\n",
        "name.append(\"R\")\n",
        "name.append(\"D\")\n",
        "name.append(\" \")\n",
        "name.append(\"G.\")\n",
        "name.append(\" \")\n",
        "name.append(\"Y\")\n",
        "name.append(\"U\")\n",
        "name.append(\"M\")\n",
        "name.append(\"A\")\n",
        "name.append(\"N\")\n",
        "name.append(\"G\")\n",
        "\n",
        "name.reverse()\n",
        "\n",
        "for x in name:\n",
        "  print(x)\n"
      ]
    }
  ]
}