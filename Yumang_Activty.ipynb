{
  "nbformat": 4,
  "nbformat_minor": 0,
  "metadata": {
    "colab": {
      "provenance": [],
      "authorship_tag": "ABX9TyMvJcStbe5psnoF7uVST4UY",
      "include_colab_link": true
    },
    "kernelspec": {
      "name": "python3",
      "display_name": "Python 3"
    },
    "language_info": {
      "name": "python"
    }
  },
  "cells": [
    {
      "cell_type": "markdown",
      "metadata": {
        "id": "view-in-github",
        "colab_type": "text"
      },
      "source": [
        "<a href=\"https://colab.research.google.com/github/JamesYu03/DSA-58010/blob/main/Yumang_Activty.ipynb\" target=\"_parent\"><img src=\"https://colab.research.google.com/assets/colab-badge.svg\" alt=\"Open In Colab\"/></a>"
      ]
    },
    {
      "cell_type": "markdown",
      "source": [
        "1.Write a Python program to create an array of 10 integers and display the array items. Access individual elements through indexes and compute for the sum."
      ],
      "metadata": {
        "id": "a4XNZuzOJlio"
      }
    },
    {
      "cell_type": "code",
      "execution_count": 6,
      "metadata": {
        "colab": {
          "base_uri": "https://localhost:8080/"
        },
        "id": "AP21JgK3JVK9",
        "outputId": "bde15cef-7b7b-4f9a-e7aa-5cf6b24f6caf"
      },
      "outputs": [
        {
          "output_type": "stream",
          "name": "stdout",
          "text": [
            "[1, 2, 3, 4, 5, 6, 7, 8, 9, 10]\n",
            "the sum of the number is: 55\n"
          ]
        }
      ],
      "source": [
        "num = [1,2,3,4,5,6,7,8,9,10] \n",
        "sum = 0\n",
        "for x in num:\n",
        "  sum += x \n",
        "\n",
        "print(num)\n",
        "print(\"the sum of the number is:\" ,sum)"
      ]
    },
    {
      "cell_type": "markdown",
      "source": [
        "2.Write a Python program to append a new item to the end of the array. Original array: numbers = [1, 2, 3, 4, 5, 6, 7, 8, 9, 10]"
      ],
      "metadata": {
        "id": "vXV7ZMF5KziA"
      }
    },
    {
      "cell_type": "code",
      "source": [
        "num = [1, 2, 3, 4, 5, 6, 7, 8, 9, 10]\n",
        "num.append(10332)\n",
        "print (num)"
      ],
      "metadata": {
        "colab": {
          "base_uri": "https://localhost:8080/"
        },
        "id": "r70Bnq4hK4ov",
        "outputId": "c08862ef-7d5c-404a-b7fd-e9299730f664"
      },
      "execution_count": 8,
      "outputs": [
        {
          "output_type": "stream",
          "name": "stdout",
          "text": [
            "[1, 2, 3, 4, 5, 6, 7, 8, 9, 10, 10332]\n"
          ]
        }
      ]
    },
    {
      "cell_type": "markdown",
      "source": [
        "3.Write a Python program to insert a new item before the second element in an existing array. Original array: numbers = [1, 2, 3, 4, 5, 6, 7, 8, 9, 10]"
      ],
      "metadata": {
        "id": "LimpBZOJLHr4"
      }
    },
    {
      "cell_type": "code",
      "source": [
        "num = [1, 2, 3, 4, 5, 6, 7, 8, 9, 10]\n",
        "num[1]= 32\n",
        "print (num)"
      ],
      "metadata": {
        "colab": {
          "base_uri": "https://localhost:8080/"
        },
        "id": "QCeCbH_DLbkA",
        "outputId": "6d9c2b3c-1518-4011-fec5-0117f076e00e"
      },
      "execution_count": 9,
      "outputs": [
        {
          "output_type": "stream",
          "name": "stdout",
          "text": [
            "[1, 32, 3, 4, 5, 6, 7, 8, 9, 10]\n"
          ]
        }
      ]
    },
    {
      "cell_type": "markdown",
      "source": [
        "4.Write a Python program to reverse the order of the items in the array.Original array: numbers = [5, 4, 3, 2, 1]"
      ],
      "metadata": {
        "id": "VUCOEEX_L3ZX"
      }
    },
    {
      "cell_type": "code",
      "source": [
        "num = [5, 4, 3, 2, 1]\n",
        "num.reverse()\n",
        "print (num)"
      ],
      "metadata": {
        "colab": {
          "base_uri": "https://localhost:8080/"
        },
        "id": "aaPFvem-L7Ew",
        "outputId": "4a2289c0-3b10-46ec-a589-6badebff5d95"
      },
      "execution_count": 11,
      "outputs": [
        {
          "output_type": "stream",
          "name": "stdout",
          "text": [
            "[1, 2, 3, 4, 5]\n"
          ]
        }
      ]
    },
    {
      "cell_type": "markdown",
      "source": [
        "5.Write a Python program to get the length of the array. Original array: numbers = [5, 4, 3, 2, 1]"
      ],
      "metadata": {
        "id": "tOcl2Ia3Mf3T"
      }
    },
    {
      "cell_type": "code",
      "source": [
        "num = [5, 4, 3, 2, 1]\n",
        "x=len(num)\n",
        "print(x)"
      ],
      "metadata": {
        "colab": {
          "base_uri": "https://localhost:8080/"
        },
        "id": "NO5W5VVxMcoW",
        "outputId": "0090256e-aa58-41f1-d8fb-cbdf8388ad74"
      },
      "execution_count": 12,
      "outputs": [
        {
          "output_type": "stream",
          "name": "stdout",
          "text": [
            "5\n"
          ]
        }
      ]
    }
  ]
}