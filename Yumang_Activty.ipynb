{
  "nbformat": 4,
  "nbformat_minor": 0,
  "metadata": {
    "colab": {
      "provenance": [],
      "authorship_tag": "ABX9TyPFD24GdPR+lo10mfd9Ai0k",
      "include_colab_link": true
    },
    "kernelspec": {
      "name": "python3",
      "display_name": "Python 3"
    },
    "language_info": {
      "name": "python"
    }
  },
  "cells": [
    {
      "cell_type": "markdown",
      "metadata": {
        "id": "view-in-github",
        "colab_type": "text"
      },
      "source": [
        "<a href=\"https://colab.research.google.com/github/JamesYu03/DSA-58010/blob/main/Yumang_Activty.ipynb\" target=\"_parent\"><img src=\"https://colab.research.google.com/assets/colab-badge.svg\" alt=\"Open In Colab\"/></a>"
      ]
    },
    {
      "cell_type": "markdown",
      "source": [
        "1.Write a Python program to create an array of 10 integers and display the array items. Access individual elements through indexes and compute for the sum."
      ],
      "metadata": {
        "id": "a4XNZuzOJlio"
      }
    },
    {
      "cell_type": "code",
      "execution_count": 19,
      "metadata": {
        "colab": {
          "base_uri": "https://localhost:8080/"
        },
        "id": "AP21JgK3JVK9",
        "outputId": "06d7a054-c9f3-4463-92ae-cbb433bee141"
      },
      "outputs": [
        {
          "output_type": "stream",
          "name": "stdout",
          "text": [
            "array=  [1, 2, 3, 4, 5, 6, 7, 8, 9, 10]\n",
            "The individual elements through indexes are:\n",
            "Array[0] =  1\n",
            "Array[1] =  2\n",
            "Array[2] =  3\n",
            "Array[3] =  4\n",
            "Array[4] =  5\n",
            "Array[5] =  6\n",
            "Array[6] =  7\n",
            "Array[7] =  8\n",
            "Array[8] =  9\n",
            "Array[9] =  10\n",
            "the sum of the number is: 55\n"
          ]
        }
      ],
      "source": [
        "num = [1,2,3,4,5,6,7,8,9,10] \n",
        "print(\"array= \", num)\n",
        "print(\"The individual elements through indexes are:\")\n",
        "print(\"Array[0] = \",num[0])\n",
        "print(\"Array[1] = \",num[1])\n",
        "print(\"Array[2] = \",num[2])\n",
        "print(\"Array[3] = \",num[3])\n",
        "print(\"Array[4] = \",num[4])\n",
        "print(\"Array[5] = \",num[5])\n",
        "print(\"Array[6] = \",num[6])\n",
        "print(\"Array[7] = \",num[7])\n",
        "print(\"Array[8] = \",num[8])\n",
        "print(\"Array[9] = \",num[9])\n",
        "\n",
        "sum = 0\n",
        "for x in num:\n",
        "  sum += x \n",
        "\n",
        "print(\"the sum of the number is:\" ,sum)"
      ]
    },
    {
      "cell_type": "markdown",
      "source": [
        "2.Write a Python program to append a new item to the end of the array. Original array: numbers = [1, 2, 3, 4, 5, 6, 7, 8, 9, 10]"
      ],
      "metadata": {
        "id": "vXV7ZMF5KziA"
      }
    },
    {
      "cell_type": "code",
      "source": [
        "num = [1, 2, 3, 4, 5, 6, 7, 8, 9, 10]\n",
        "num.append(10332)\n",
        "print (num)"
      ],
      "metadata": {
        "colab": {
          "base_uri": "https://localhost:8080/"
        },
        "id": "r70Bnq4hK4ov",
        "outputId": "c08862ef-7d5c-404a-b7fd-e9299730f664"
      },
      "execution_count": null,
      "outputs": [
        {
          "output_type": "stream",
          "name": "stdout",
          "text": [
            "[1, 2, 3, 4, 5, 6, 7, 8, 9, 10, 10332]\n"
          ]
        }
      ]
    },
    {
      "cell_type": "markdown",
      "source": [
        "3.Write a Python program to insert a new item before the second element in an existing array. Original array: numbers = [1, 2, 3, 4, 5, 6, 7, 8, 9, 10]"
      ],
      "metadata": {
        "id": "LimpBZOJLHr4"
      }
    },
    {
      "cell_type": "code",
      "source": [
        "num = [1, 2, 3, 4, 5, 6, 7, 8, 9, 10]\n",
        "num.insert(1,69)\n",
        "print (num)"
      ],
      "metadata": {
        "colab": {
          "base_uri": "https://localhost:8080/"
        },
        "id": "QCeCbH_DLbkA",
        "outputId": "ace5173f-f0ec-4960-976f-7dc167d708a4"
      },
      "execution_count": null,
      "outputs": [
        {
          "output_type": "stream",
          "name": "stdout",
          "text": [
            "[1, 69, 2, 3, 4, 5, 6, 7, 8, 9, 10]\n"
          ]
        }
      ]
    },
    {
      "cell_type": "markdown",
      "source": [
        "4.Write a Python program to reverse the order of the items in the array.Original array: numbers = [5, 4, 3, 2, 1]"
      ],
      "metadata": {
        "id": "VUCOEEX_L3ZX"
      }
    },
    {
      "cell_type": "code",
      "source": [
        "num = [5, 4, 3, 2, 1]\n",
        "num.reverse()\n",
        "print (num)"
      ],
      "metadata": {
        "colab": {
          "base_uri": "https://localhost:8080/"
        },
        "id": "aaPFvem-L7Ew",
        "outputId": "4a2289c0-3b10-46ec-a589-6badebff5d95"
      },
      "execution_count": null,
      "outputs": [
        {
          "output_type": "stream",
          "name": "stdout",
          "text": [
            "[1, 2, 3, 4, 5]\n"
          ]
        }
      ]
    },
    {
      "cell_type": "markdown",
      "source": [
        "5.Write a Python program to get the length of the array. Original array: numbers = [5, 4, 3, 2, 1]"
      ],
      "metadata": {
        "id": "tOcl2Ia3Mf3T"
      }
    },
    {
      "cell_type": "code",
      "source": [
        "num = [5, 4, 3, 2, 1]\n",
        "print(len(num))"
      ],
      "metadata": {
        "colab": {
          "base_uri": "https://localhost:8080/"
        },
        "id": "NO5W5VVxMcoW",
        "outputId": "7ffb2b5a-9a29-4f83-827d-c617c996b120"
      },
      "execution_count": null,
      "outputs": [
        {
          "output_type": "stream",
          "name": "stdout",
          "text": [
            "5\n"
          ]
        }
      ]
    }
  ]
}