{
  "nbformat": 4,
  "nbformat_minor": 0,
  "metadata": {
    "colab": {
      "provenance": [],
      "authorship_tag": "ABX9TyNyod3hj2cET6yxQvy+Y04g",
      "include_colab_link": true
    },
    "kernelspec": {
      "name": "python3",
      "display_name": "Python 3"
    },
    "language_info": {
      "name": "python"
    }
  },
  "cells": [
    {
      "cell_type": "markdown",
      "metadata": {
        "id": "view-in-github",
        "colab_type": "text"
      },
      "source": [
        "<a href=\"https://colab.research.google.com/github/JamesYu03/DSA-58010/blob/main/recitation_MIDTERM.ipynb\" target=\"_parent\"><img src=\"https://colab.research.google.com/assets/colab-badge.svg\" alt=\"Open In Colab\"/></a>"
      ]
    },
    {
      "cell_type": "code",
      "execution_count": 21,
      "metadata": {
        "id": "fziEIvzQHW4b",
        "colab": {
          "base_uri": "https://localhost:8080/"
        },
        "outputId": "e6f0abd2-8198-464c-b38f-858690a01761"
      },
      "outputs": [
        {
          "output_type": "stream",
          "name": "stdout",
          "text": [
            "Red\n",
            "Orange\n",
            "Blue\n",
            "Yellow\n",
            "Popped node: Yellow\n",
            "Red\n",
            "Orange\n",
            "Blue\n"
          ]
        }
      ],
      "source": [
        "#Python program where we delete the last element of a linked list using a remove/pop function\n",
        "class Node:\n",
        "  def __init__(self,data):\n",
        "    self.data = data\n",
        "    self.next = None #next node is initially as null\n",
        "\n",
        "class LinkedList:\n",
        "  def __init__(self):\n",
        "    self.head = None  #head node as null initially\n",
        "  def printList(self):\n",
        "    temp = self.head\n",
        "    while(temp):\n",
        "      print(temp.data)\n",
        "      temp = temp.next\n",
        "  def is_empty(self):\n",
        "    if self.head == None:\n",
        "      return True\n",
        "    else:\n",
        "      return False\n",
        "  def remove(self):\n",
        "    if self.is_empty():\n",
        "      return None\n",
        "    else:\n",
        "      poppednode = fourth\n",
        "      third.next = None\n",
        "      print(\"Popped node:\", poppednode.data)\n",
        "\n",
        "linkedList = LinkedList()\n",
        "linkedList.head = Node('Red')\n",
        "second= Node('Orange')\n",
        "third = Node('Blue') \n",
        "fourth = Node('Yellow')\n",
        "\n",
        "linkedList.head.next = second\n",
        "second.next = third\n",
        "third.next = fourth\n",
        "\n",
        "linkedList.printList()\n",
        "linkedList.remove()\n",
        "linkedList.printList()"
      ]
    }
  ]
}