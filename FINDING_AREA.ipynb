{
  "nbformat": 4,
  "nbformat_minor": 0,
  "metadata": {
    "colab": {
      "name": "FINDING AREA.ipynb",
      "provenance": [],
      "authorship_tag": "ABX9TyNLbueRolDqcUTRnbT5pvP1",
      "include_colab_link": true
    },
    "kernelspec": {
      "name": "python3",
      "display_name": "Python 3"
    },
    "language_info": {
      "name": "python"
    }
  },
  "cells": [
    {
      "cell_type": "markdown",
      "metadata": {
        "id": "view-in-github",
        "colab_type": "text"
      },
      "source": [
        "<a href=\"https://colab.research.google.com/github/JamesYu03/DSA-58010/blob/main/FINDING_AREA.ipynb\" target=\"_parent\"><img src=\"https://colab.research.google.com/assets/colab-badge.svg\" alt=\"Open In Colab\"/></a>"
      ]
    },
    {
      "cell_type": "code",
      "execution_count": 21,
      "metadata": {
        "colab": {
          "base_uri": "https://localhost:8080/"
        },
        "id": "g4GQNag-T0fo",
        "outputId": "0dcf5382-2aec-4eb4-d0fe-c12c951263b7"
      },
      "outputs": [
        {
          "output_type": "stream",
          "name": "stdout",
          "text": [
            "Input your radius of the circle: 32\n",
            "Area of the circle = 3215.36\n"
          ]
        }
      ],
      "source": [
        "pi = 3.14\n",
        "radius = float(input(\"Input your radius of the circle: \"))\n",
        "area = pi * radius * radius\n",
        "print(\"Area of the circle = %.2f\" %area)"
      ]
    }
  ]
}