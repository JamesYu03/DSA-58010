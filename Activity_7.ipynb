{
  "nbformat": 4,
  "nbformat_minor": 0,
  "metadata": {
    "colab": {
      "provenance": [],
      "authorship_tag": "ABX9TyOMHWPul1WSveUWvoYhNYtG",
      "include_colab_link": true
    },
    "kernelspec": {
      "name": "python3",
      "display_name": "Python 3"
    },
    "language_info": {
      "name": "python"
    }
  },
  "cells": [
    {
      "cell_type": "markdown",
      "metadata": {
        "id": "view-in-github",
        "colab_type": "text"
      },
      "source": [
        "<a href=\"https://colab.research.google.com/github/JamesYu03/DSA-58010/blob/main/Activity_7.ipynb\" target=\"_parent\"><img src=\"https://colab.research.google.com/assets/colab-badge.svg\" alt=\"Open In Colab\"/></a>"
      ]
    },
    {
      "cell_type": "code",
      "execution_count": 2,
      "metadata": {
        "colab": {
          "base_uri": "https://localhost:8080/"
        },
        "id": "foOUQYUCMhZx",
        "outputId": "219b8fe4-27c0-4fa1-d790-f9b733833e96"
      },
      "outputs": [
        {
          "output_type": "stream",
          "name": "stdout",
          "text": [
            "{'E': [['I', 33], ['J', 58], ['K', 41], ['M', 69]], 'F': [['I', 43], ['J', 32], ['K', 51], ['P', 70]], 'H': [['I', 16], ['J', 22], ['K', 100]], 'I': [['E', 33], ['F', 43], ['H', 16]], 'J': [['E', 58], ['F', 32], ['H', 22]], 'K': [['E', 41], ['F', 51], ['H', 100]], 'M': [['E', 69]], 'P': [['F', 70]]}\n"
          ]
        }
      ],
      "source": [
        "G28 ={\n",
        "'E': [['I',33], ['J', 58], ['K', 41], ['M', 69]] ,\n",
        "'F': [['I',43], ['J', 32], ['K', 51], ['P', 70]] ,\n",
        "'H': [['I',16], ['J', 22], ['K', 100]] ,\n",
        "'I': [['E',33], ['F', 43], ['H', 16]] ,\n",
        "'J': [['E',58], ['F', 32], ['H', 22]] ,\n",
        "'K': [['E',41], ['F', 51], ['H', 100]] ,\n",
        "'M': [['E',69]] , \n",
        "'P': [['F',70]]\n",
        "}\n",
        "\n",
        "print(G28)"
      ]
    }
  ]
}