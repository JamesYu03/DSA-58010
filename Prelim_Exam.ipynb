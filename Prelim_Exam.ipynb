{
  "nbformat": 4,
  "nbformat_minor": 0,
  "metadata": {
    "colab": {
      "provenance": [],
      "authorship_tag": "ABX9TyMBjWdTMJpKquW/F7xfcjtf",
      "include_colab_link": true
    },
    "kernelspec": {
      "name": "python3",
      "display_name": "Python 3"
    },
    "language_info": {
      "name": "python"
    }
  },
  "cells": [
    {
      "cell_type": "markdown",
      "metadata": {
        "id": "view-in-github",
        "colab_type": "text"
      },
      "source": [
        "<a href=\"https://colab.research.google.com/github/JamesYu03/DSA-58010/blob/main/Prelim_Exam.ipynb\" target=\"_parent\"><img src=\"https://colab.research.google.com/assets/colab-badge.svg\" alt=\"Open In Colab\"/></a>"
      ]
    },
    {
      "cell_type": "code",
      "execution_count": 47,
      "metadata": {
        "colab": {
          "base_uri": "https://localhost:8080/"
        },
        "id": "fzjbNzl4qJZr",
        "outputId": "cbd195d7-1b9e-4ed8-c5cc-d9292fcaefb9"
      },
      "outputs": [
        {
          "output_type": "stream",
          "name": "stdout",
          "text": [
            "[ 1  2  3  4  5  6  7  8  9 10]\n",
            "The even numbers are: [ 2.  4.  6.  8. 10.]\n",
            "The number of even number is: 5\n"
          ]
        }
      ],
      "source": [
        "import numpy as numpy\n",
        "\n",
        "A = numpy.array([1,2,3,4,5,6,7,8,9,10]) \n",
        "num = 0 \n",
        "Even = numpy.array([]) \n",
        "\n",
        "for x in A: \n",
        "    \n",
        "    if x % 2 == 0:\n",
        "        num = num + 1\n",
        "        Even = numpy.append(Even, [x])\n",
        "        \n",
        "print(A) \n",
        "print(\"The even numbers are:\", Even)\n",
        "print(\"The number of even number is:\", num)\n",
        "\n",
        "\n"
      ]
    }
  ]
}